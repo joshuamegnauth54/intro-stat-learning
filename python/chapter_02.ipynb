{
 "cells": [
  {
   "cell_type": "markdown",
   "metadata": {},
   "source": [
    "# Chapter 2 solutions\n",
    "## (code only)\n",
    "\n",
    "I'm skipping the labs because they're designed to test basic R knowledge. That's no fun in either language!\n",
    "\n",
    "### Question 7"
   ]
  },
  {
   "cell_type": "code",
   "execution_count": 3,
   "metadata": {},
   "outputs": [
    {
     "name": "stdout",
     "output_type": "stream",
     "text": [
      "   distance      Y\n",
      "4  1.414214  Green\n",
      "5  1.732051    Red\n",
      "1  2.000000    Red\n",
      "3  2.236068  Green\n",
      "0  3.000000    Red\n",
      "2  3.162278    Red\n"
     ]
    }
   ],
   "source": [
    "import pandas as pd\n",
    "import numpy as np\n",
    "\n",
    "# A DataFrame of the data from question 7.\n",
    "# Working with NumPy arrays directly is possible as well.\n",
    "colors_df = pd.DataFrame({\"X1\": [0, 2, 0, 0, -1, 1],\n",
    "                          \"X2\": [3, 0, 1, 1, 0, 1],\n",
    "                          \"X3\": [0, 0, 3, 2, 1, 1],\n",
    "                          \"Y\": [\"Red\", \"Red\", \"Red\", \"Green\", \"Green\",\n",
    "                                \"Red\"]})\n",
    "\n",
    "# Euclidean distance formula.\n",
    "# Our test point is 0, 0, 0 which means we can simply\n",
    "# subtract 0 from each column wholesale instead of a\n",
    "# more complicated application of the distance formula.\n",
    "distances_df = np.sqrt(((colors_df[[\"X1\", \"X2\", \"X3\"]] - 0)**2).sum(axis=1)).to_frame()\n",
    "\n",
    "# Note that I convert the result of the formula to a DataFrame from a Series above.\n",
    "# That allows us to assign the colors back to the output DataFrame easier.\n",
    "distances_df[\"Y\"] = colors_df.Y\n",
    "distances_df.columns = [\"distance\", \"Y\"]\n",
    "\n",
    "# Finally, sort the DataFrame by our distances\n",
    "distances_df.sort_values(\"distance\", inplace=True)\n",
    "print(distances_df)"
   ]
  },
  {
   "cell_type": "markdown",
   "metadata": {},
   "source": [
    "The code above calculates rowwise Euclidean distances to the point (0, 0, 0). We can see that a KNN classifier would label our new point as Green with K=1 or Red with K=3. Obviously, looking at a DataFrame and calculating a conditional probability in your head isn't progammatic. We can calculate the probability programatically by filtering for a class, J, to give us an indicator variable where 1 indicates that the nearest neighbor is of class J. Then, the mean of that output is the probability. Here's an example below."
   ]
  },
  {
   "cell_type": "code",
   "execution_count": 4,
   "metadata": {},
   "outputs": [
    {
     "data": {
      "text/plain": [
       "0.3333333333333333"
      ]
     },
     "execution_count": 4,
     "metadata": {},
     "output_type": "execute_result"
    }
   ],
   "source": [
    "# Select up to k nearest neighbors\n",
    "k = 3\n",
    "k_nearest = distances_df[:k]\n",
    "\n",
    "# Filter for class J\n",
    "j_class = \"Green\"\n",
    "indicator = k_nearest.Y == j_class\n",
    "\n",
    "# And then calculate the probability which is simply the result of the indicator\n",
    "# divided by K. In other words, the mean of the output.\n",
    "indicator.mean()"
   ]
  },
  {
   "cell_type": "markdown",
   "metadata": {},
   "source": [
    "I'd rather perform the above steps in a one liner, but I think verbosely writing out the code shows how we can convert it to a function easily. The probability of our dependent variable being Green with k=3 is 1/3. Thus 1 - 1/3 is a 2/3 probability of Red."
   ]
  }
 ],
 "metadata": {
  "kernelspec": {
   "display_name": "Python 3",
   "language": "python",
   "name": "python3"
  },
  "language_info": {
   "codemirror_mode": {
    "name": "ipython",
    "version": 3
   },
   "file_extension": ".py",
   "mimetype": "text/x-python",
   "name": "python",
   "nbconvert_exporter": "python",
   "pygments_lexer": "ipython3",
   "version": "3.7.9"
  }
 },
 "nbformat": 4,
 "nbformat_minor": 4
}
